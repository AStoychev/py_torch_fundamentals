{
 "cells": [
  {
   "cell_type": "code",
   "execution_count": 5,
   "metadata": {},
   "outputs": [
    {
     "name": "stdout",
     "output_type": "stream",
     "text": [
      "2.5.1+cu121\n",
      "CPU times: total: 0 ns\n",
      "Wall time: 0 ns\n",
      "CPU times: total: 0 ns\n",
      "Wall time: 0 ns\n"
     ]
    },
    {
     "data": {
      "text/plain": [
       "torch.Size([10, 10])"
      ]
     },
     "execution_count": 5,
     "metadata": {},
     "output_type": "execute_result"
    }
   ],
   "source": [
    "import torch\n",
    "import pandas as pd\n",
    "import numpy as np\n",
    "import matplotlib.pyplot as plt\n",
    "\n",
    "print(torch.__version__)\n",
    "\n",
    "scalar = torch.tensor(7)\n",
    "scalar\n",
    "\n",
    "scalar.ndim\n",
    "\n",
    "scalar.item()\n",
    "\n",
    "vector = torch.tensor([7, 7])\n",
    "\n",
    "vector.shape\n",
    "\n",
    "MATRIX = torch.tensor([[7, 8], [9, 10]])\n",
    "\n",
    "MATRIX.ndim\n",
    "\n",
    "TENSOR = torch.tensor([[[1, 2, 3], [3, 6, 9], [2, 4, 5]]])\n",
    "\n",
    "random_tensor = torch.rand(10, 10, 10)\n",
    "\n",
    "random_image_size_tensor = torch.rand(size=(224, 224, 3))\n",
    "\n",
    "zeros = torch.zeros(size=(3, 4))\n",
    "\n",
    "ones = torch.ones(size=(3, 4))\n",
    "\n",
    "torch_range = torch.arange(0, 11)\n",
    "\n",
    "step_range = torch.arange(start=0, end=1000, step=77)\n",
    "\n",
    "\n",
    "one_to_ten = torch.arange(start=1, end=11, step=1)\n",
    "\n",
    "\n",
    "ten_zeros = torch.zeros_like(input=one_to_ten)\n",
    "\n",
    "\n",
    "float_32_tensor = torch.tensor(\n",
    "    [3.0, 6.0, 9.0], dtype=None, device=None, requires_grad=False\n",
    ")\n",
    "\n",
    "float_16_tensor = float_32_tensor.type(torch.float16)\n",
    "\n",
    "int_32_tensor = torch.tensor([3, 6, 9], dtype=torch.int64)\n",
    "\n",
    "some_tensor = torch.rand(3, 4)\n",
    "\n",
    "# print(f\"Datatype of tensor: {some_tensor.dtype}\")\n",
    "# print(f\"Shape of tensor: {some_tensor.shape}\")\n",
    "# print(f\"Device tensor is on: {some_tensor.device}\")\n",
    "\n",
    "tensor = torch.tensor([1, 2, 3])\n",
    "\n",
    "%time\n",
    "value = 0\n",
    "for i in range(len(tensor)):\n",
    "    value += tensor[i] * tensor[i]\n",
    "\n",
    "%time\n",
    "\n",
    "torch.matmul(torch.rand(10, 10), torch.rand(10, 10)).shape"
   ]
  }
 ],
 "metadata": {
  "kernelspec": {
   "display_name": "venv",
   "language": "python",
   "name": "python3"
  },
  "language_info": {
   "codemirror_mode": {
    "name": "ipython",
    "version": 3
   },
   "file_extension": ".py",
   "mimetype": "text/x-python",
   "name": "python",
   "nbconvert_exporter": "python",
   "pygments_lexer": "ipython3",
   "version": "3.11.7"
  }
 },
 "nbformat": 4,
 "nbformat_minor": 2
}
